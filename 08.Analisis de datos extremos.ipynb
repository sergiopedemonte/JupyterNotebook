{
 "cells": [
  {
   "cell_type": "code",
   "execution_count": 1,
   "id": "a2004a31",
   "metadata": {},
   "outputs": [],
   "source": [
    "import pandas as pd\n",
    "import numpy as np\n",
    "df = pd.read_csv(\"C:/Users/pauli/Downloads/base_datos_2008.csv\", nrows=100000)"
   ]
  },
  {
   "cell_type": "code",
   "execution_count": 2,
   "id": "8f6e62ff",
   "metadata": {},
   "outputs": [],
   "source": [
    "# estraemos una columna ArrDelay y eliminaos de ella los valores faltantes\n",
    "x=df[\"ArrDelay\"].dropna()"
   ]
  },
  {
   "cell_type": "code",
   "execution_count": 3,
   "id": "42846675",
   "metadata": {},
   "outputs": [],
   "source": [
    "# seleccionados los cuartiles (25%, 75%) y calculamos el rango intercuartilico.\n",
    "Q1=np.percentile(x,25)\n",
    "Q3=np.percentile(x,75)\n",
    "rangointer = Q3-Q1"
   ]
  },
  {
   "cell_type": "code",
   "execution_count": 4,
   "id": "5d6055aa",
   "metadata": {},
   "outputs": [],
   "source": [
    "# para la selección de outliers, definimos 2 umbrales\n",
    "umbralsuperior = Q3 + 1.5*rangointer\n",
    "umbralinferior = Q1 - 1.5*rangointer"
   ]
  },
  {
   "cell_type": "code",
   "execution_count": 5,
   "id": "32d981e1",
   "metadata": {},
   "outputs": [
    {
     "data": {
      "text/plain": [
       "38.5"
      ]
     },
     "execution_count": 5,
     "metadata": {},
     "output_type": "execute_result"
    }
   ],
   "source": [
    "umbralsuperior"
   ]
  },
  {
   "cell_type": "code",
   "execution_count": 6,
   "id": "cfe06311",
   "metadata": {},
   "outputs": [
    {
     "data": {
      "text/plain": [
       "-37.5"
      ]
     },
     "execution_count": 6,
     "metadata": {},
     "output_type": "execute_result"
    }
   ],
   "source": [
    "umbralinferior"
   ]
  },
  {
   "cell_type": "code",
   "execution_count": 8,
   "id": "8fb2eb79",
   "metadata": {},
   "outputs": [
    {
     "data": {
      "text/plain": [
       "0.08387201361729721"
      ]
     },
     "execution_count": 8,
     "metadata": {},
     "output_type": "execute_result"
    }
   ],
   "source": [
    "np.mean(x>umbralsuperior)\n",
    "# valores sobre el umbral superior (8% aproximadamnete)"
   ]
  },
  {
   "cell_type": "code",
   "execution_count": 9,
   "id": "aff5c98d",
   "metadata": {},
   "outputs": [
    {
     "data": {
      "text/plain": [
       "0.0019048005025431114"
      ]
     },
     "execution_count": 9,
     "metadata": {},
     "output_type": "execute_result"
    }
   ],
   "source": [
    "np.mean(x<umbralinferior)\n",
    "# valores bajo el umbral inferior (2% aproximadamente)"
   ]
  },
  {
   "cell_type": "code",
   "execution_count": 10,
   "id": "4d95a2ed",
   "metadata": {},
   "outputs": [],
   "source": [
    "from sklearn.covariance import EllipticEnvelope"
   ]
  },
  {
   "cell_type": "code",
   "execution_count": null,
   "id": "6ba51a9f",
   "metadata": {},
   "outputs": [],
   "source": [
    "# Alternativa para estudiar varias variables a la vez"
   ]
  },
  {
   "cell_type": "code",
   "execution_count": 12,
   "id": "d25e0987",
   "metadata": {},
   "outputs": [],
   "source": [
    "# Seleccionar el 1% de los tados que están mas alejados de nuestros datos centrales. Se asume distribución normal de los datos.\n",
    "outliers = EllipticEnvelope(contamination=0.01)"
   ]
  },
  {
   "cell_type": "code",
   "execution_count": 20,
   "id": "21887e0c",
   "metadata": {},
   "outputs": [],
   "source": [
    "var_list =[\"DepDelay\",\"CarrierDelay\",\"SecurityDelay\"]"
   ]
  },
  {
   "cell_type": "code",
   "execution_count": 21,
   "id": "aa73d5bf",
   "metadata": {},
   "outputs": [],
   "source": [
    "x = np.array(df.loc[:,var_list].dropna())"
   ]
  },
  {
   "cell_type": "code",
   "execution_count": 24,
   "id": "fcc91306",
   "metadata": {},
   "outputs": [],
   "source": [
    "pred=outliers.fit(x)"
   ]
  },
  {
   "cell_type": "code",
   "execution_count": 25,
   "id": "c8448eb3",
   "metadata": {},
   "outputs": [
    {
     "data": {
      "text/plain": [
       "EllipticEnvelope(contamination=0.01)"
      ]
     },
     "execution_count": 25,
     "metadata": {},
     "output_type": "execute_result"
    }
   ],
   "source": [
    "pred"
   ]
  },
  {
   "cell_type": "code",
   "execution_count": 26,
   "id": "de0a20c5",
   "metadata": {},
   "outputs": [],
   "source": [
    "elips_outliers = np.where(pred==-1)[0]"
   ]
  },
  {
   "cell_type": "code",
   "execution_count": 31,
   "id": "e946d2b3",
   "metadata": {},
   "outputs": [
    {
     "data": {
      "text/plain": [
       "array([], dtype=int64)"
      ]
     },
     "execution_count": 31,
     "metadata": {},
     "output_type": "execute_result"
    }
   ],
   "source": [
    "elips_outliers"
   ]
  },
  {
   "cell_type": "code",
   "execution_count": null,
   "id": "279802d0",
   "metadata": {},
   "outputs": [],
   "source": [
    "# verificar"
   ]
  }
 ],
 "metadata": {
  "kernelspec": {
   "display_name": "Python 3",
   "language": "python",
   "name": "python3"
  },
  "language_info": {
   "codemirror_mode": {
    "name": "ipython",
    "version": 3
   },
   "file_extension": ".py",
   "mimetype": "text/x-python",
   "name": "python",
   "nbconvert_exporter": "python",
   "pygments_lexer": "ipython3",
   "version": "3.8.8"
  }
 },
 "nbformat": 4,
 "nbformat_minor": 5
}
